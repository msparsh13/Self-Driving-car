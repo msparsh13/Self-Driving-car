{
 "cells": [
  {
   "cell_type": "code",
   "execution_count": 1,
   "id": "90ca567b",
   "metadata": {},
   "outputs": [
    {
     "name": "stderr",
     "output_type": "stream",
     "text": [
      "C:\\Users\\Sparsh Mahajan\\anaconda3\\Lib\\site-packages\\paramiko\\transport.py:219: CryptographyDeprecationWarning: Blowfish has been deprecated\n",
      "  \"class\": algorithms.Blowfish,\n"
     ]
    }
   ],
   "source": [
    "import os\n",
    "import numpy as np\n",
    "import matplotlib.pyplot as plt\n",
    "import matplotlib.image as mpimg\n",
    "from tensorflow import keras\n",
    "import tensorflow as tf\n",
    "from keras.models import Sequential\n",
    "from keras.layers import Convolution2D, MaxPooling2D, Dropout, Flatten, Dense, Conv2D\n",
    "from sklearn.utils import shuffle\n",
    "from sklearn.model_selection import train_test_split\n",
    "from imgaug import augmenters as iaa\n",
    "import cv2 as cv\n",
    "import pandas as pd\n",
    "import ntpath\n",
    "import random"
   ]
  },
  {
   "cell_type": "code",
   "execution_count": 2,
   "id": "8b38dd0a",
   "metadata": {},
   "outputs": [
    {
     "data": {
      "text/html": [
       "<div>\n",
       "<style scoped>\n",
       "    .dataframe tbody tr th:only-of-type {\n",
       "        vertical-align: middle;\n",
       "    }\n",
       "\n",
       "    .dataframe tbody tr th {\n",
       "        vertical-align: top;\n",
       "    }\n",
       "\n",
       "    .dataframe thead th {\n",
       "        text-align: right;\n",
       "    }\n",
       "</style>\n",
       "<table border=\"1\" class=\"dataframe\">\n",
       "  <thead>\n",
       "    <tr style=\"text-align: right;\">\n",
       "      <th></th>\n",
       "      <th>center</th>\n",
       "      <th>left</th>\n",
       "      <th>right</th>\n",
       "      <th>steering</th>\n",
       "      <th>throttle</th>\n",
       "      <th>reverse</th>\n",
       "      <th>speed</th>\n",
       "    </tr>\n",
       "  </thead>\n",
       "  <tbody>\n",
       "    <tr>\n",
       "      <th>0</th>\n",
       "      <td>/home/aman-py/Desktop/Self-Driving-Car/data/IM...</td>\n",
       "      <td>/home/aman-py/Desktop/Self-Driving-Car/data/I...</td>\n",
       "      <td>/home/aman-py/Desktop/Self-Driving-Car/data/I...</td>\n",
       "      <td>0.0</td>\n",
       "      <td>0.0</td>\n",
       "      <td>0.0</td>\n",
       "      <td>0.000078</td>\n",
       "    </tr>\n",
       "    <tr>\n",
       "      <th>1</th>\n",
       "      <td>/home/aman-py/Desktop/Self-Driving-Car/data/IM...</td>\n",
       "      <td>/home/aman-py/Desktop/Self-Driving-Car/data/I...</td>\n",
       "      <td>/home/aman-py/Desktop/Self-Driving-Car/data/I...</td>\n",
       "      <td>0.0</td>\n",
       "      <td>0.0</td>\n",
       "      <td>0.0</td>\n",
       "      <td>0.000078</td>\n",
       "    </tr>\n",
       "    <tr>\n",
       "      <th>2</th>\n",
       "      <td>/home/aman-py/Desktop/Self-Driving-Car/data/IM...</td>\n",
       "      <td>/home/aman-py/Desktop/Self-Driving-Car/data/I...</td>\n",
       "      <td>/home/aman-py/Desktop/Self-Driving-Car/data/I...</td>\n",
       "      <td>0.0</td>\n",
       "      <td>0.0</td>\n",
       "      <td>0.0</td>\n",
       "      <td>0.000079</td>\n",
       "    </tr>\n",
       "    <tr>\n",
       "      <th>3</th>\n",
       "      <td>/home/aman-py/Desktop/Self-Driving-Car/data/IM...</td>\n",
       "      <td>/home/aman-py/Desktop/Self-Driving-Car/data/I...</td>\n",
       "      <td>/home/aman-py/Desktop/Self-Driving-Car/data/I...</td>\n",
       "      <td>0.0</td>\n",
       "      <td>0.0</td>\n",
       "      <td>0.0</td>\n",
       "      <td>0.000078</td>\n",
       "    </tr>\n",
       "    <tr>\n",
       "      <th>4</th>\n",
       "      <td>/home/aman-py/Desktop/Self-Driving-Car/data/IM...</td>\n",
       "      <td>/home/aman-py/Desktop/Self-Driving-Car/data/I...</td>\n",
       "      <td>/home/aman-py/Desktop/Self-Driving-Car/data/I...</td>\n",
       "      <td>0.0</td>\n",
       "      <td>0.0</td>\n",
       "      <td>0.0</td>\n",
       "      <td>0.000079</td>\n",
       "    </tr>\n",
       "    <tr>\n",
       "      <th>...</th>\n",
       "      <td>...</td>\n",
       "      <td>...</td>\n",
       "      <td>...</td>\n",
       "      <td>...</td>\n",
       "      <td>...</td>\n",
       "      <td>...</td>\n",
       "      <td>...</td>\n",
       "    </tr>\n",
       "    <tr>\n",
       "      <th>7254</th>\n",
       "      <td>/home/aman-py/Desktop/Self-Driving-Car/data/IM...</td>\n",
       "      <td>/home/aman-py/Desktop/Self-Driving-Car/data/I...</td>\n",
       "      <td>/home/aman-py/Desktop/Self-Driving-Car/data/I...</td>\n",
       "      <td>0.0</td>\n",
       "      <td>0.0</td>\n",
       "      <td>0.0</td>\n",
       "      <td>23.381190</td>\n",
       "    </tr>\n",
       "    <tr>\n",
       "      <th>7255</th>\n",
       "      <td>/home/aman-py/Desktop/Self-Driving-Car/data/IM...</td>\n",
       "      <td>/home/aman-py/Desktop/Self-Driving-Car/data/I...</td>\n",
       "      <td>/home/aman-py/Desktop/Self-Driving-Car/data/I...</td>\n",
       "      <td>0.0</td>\n",
       "      <td>0.0</td>\n",
       "      <td>0.0</td>\n",
       "      <td>23.101820</td>\n",
       "    </tr>\n",
       "    <tr>\n",
       "      <th>7256</th>\n",
       "      <td>/home/aman-py/Desktop/Self-Driving-Car/data/IM...</td>\n",
       "      <td>/home/aman-py/Desktop/Self-Driving-Car/data/I...</td>\n",
       "      <td>/home/aman-py/Desktop/Self-Driving-Car/data/I...</td>\n",
       "      <td>0.0</td>\n",
       "      <td>0.0</td>\n",
       "      <td>0.0</td>\n",
       "      <td>22.780150</td>\n",
       "    </tr>\n",
       "    <tr>\n",
       "      <th>7257</th>\n",
       "      <td>/home/aman-py/Desktop/Self-Driving-Car/data/IM...</td>\n",
       "      <td>/home/aman-py/Desktop/Self-Driving-Car/data/I...</td>\n",
       "      <td>/home/aman-py/Desktop/Self-Driving-Car/data/I...</td>\n",
       "      <td>0.0</td>\n",
       "      <td>0.0</td>\n",
       "      <td>0.0</td>\n",
       "      <td>22.511500</td>\n",
       "    </tr>\n",
       "    <tr>\n",
       "      <th>7258</th>\n",
       "      <td>/home/aman-py/Desktop/Self-Driving-Car/data/IM...</td>\n",
       "      <td>/home/aman-py/Desktop/Self-Driving-Car/data/I...</td>\n",
       "      <td>/home/aman-py/Desktop/Self-Driving-Car/data/I...</td>\n",
       "      <td>0.0</td>\n",
       "      <td>0.0</td>\n",
       "      <td>0.0</td>\n",
       "      <td>22.202620</td>\n",
       "    </tr>\n",
       "  </tbody>\n",
       "</table>\n",
       "<p>7259 rows × 7 columns</p>\n",
       "</div>"
      ],
      "text/plain": [
       "                                                 center  \\\n",
       "0     /home/aman-py/Desktop/Self-Driving-Car/data/IM...   \n",
       "1     /home/aman-py/Desktop/Self-Driving-Car/data/IM...   \n",
       "2     /home/aman-py/Desktop/Self-Driving-Car/data/IM...   \n",
       "3     /home/aman-py/Desktop/Self-Driving-Car/data/IM...   \n",
       "4     /home/aman-py/Desktop/Self-Driving-Car/data/IM...   \n",
       "...                                                 ...   \n",
       "7254  /home/aman-py/Desktop/Self-Driving-Car/data/IM...   \n",
       "7255  /home/aman-py/Desktop/Self-Driving-Car/data/IM...   \n",
       "7256  /home/aman-py/Desktop/Self-Driving-Car/data/IM...   \n",
       "7257  /home/aman-py/Desktop/Self-Driving-Car/data/IM...   \n",
       "7258  /home/aman-py/Desktop/Self-Driving-Car/data/IM...   \n",
       "\n",
       "                                                   left  \\\n",
       "0      /home/aman-py/Desktop/Self-Driving-Car/data/I...   \n",
       "1      /home/aman-py/Desktop/Self-Driving-Car/data/I...   \n",
       "2      /home/aman-py/Desktop/Self-Driving-Car/data/I...   \n",
       "3      /home/aman-py/Desktop/Self-Driving-Car/data/I...   \n",
       "4      /home/aman-py/Desktop/Self-Driving-Car/data/I...   \n",
       "...                                                 ...   \n",
       "7254   /home/aman-py/Desktop/Self-Driving-Car/data/I...   \n",
       "7255   /home/aman-py/Desktop/Self-Driving-Car/data/I...   \n",
       "7256   /home/aman-py/Desktop/Self-Driving-Car/data/I...   \n",
       "7257   /home/aman-py/Desktop/Self-Driving-Car/data/I...   \n",
       "7258   /home/aman-py/Desktop/Self-Driving-Car/data/I...   \n",
       "\n",
       "                                                  right  steering  throttle  \\\n",
       "0      /home/aman-py/Desktop/Self-Driving-Car/data/I...       0.0       0.0   \n",
       "1      /home/aman-py/Desktop/Self-Driving-Car/data/I...       0.0       0.0   \n",
       "2      /home/aman-py/Desktop/Self-Driving-Car/data/I...       0.0       0.0   \n",
       "3      /home/aman-py/Desktop/Self-Driving-Car/data/I...       0.0       0.0   \n",
       "4      /home/aman-py/Desktop/Self-Driving-Car/data/I...       0.0       0.0   \n",
       "...                                                 ...       ...       ...   \n",
       "7254   /home/aman-py/Desktop/Self-Driving-Car/data/I...       0.0       0.0   \n",
       "7255   /home/aman-py/Desktop/Self-Driving-Car/data/I...       0.0       0.0   \n",
       "7256   /home/aman-py/Desktop/Self-Driving-Car/data/I...       0.0       0.0   \n",
       "7257   /home/aman-py/Desktop/Self-Driving-Car/data/I...       0.0       0.0   \n",
       "7258   /home/aman-py/Desktop/Self-Driving-Car/data/I...       0.0       0.0   \n",
       "\n",
       "      reverse      speed  \n",
       "0         0.0   0.000078  \n",
       "1         0.0   0.000078  \n",
       "2         0.0   0.000079  \n",
       "3         0.0   0.000078  \n",
       "4         0.0   0.000079  \n",
       "...       ...        ...  \n",
       "7254      0.0  23.381190  \n",
       "7255      0.0  23.101820  \n",
       "7256      0.0  22.780150  \n",
       "7257      0.0  22.511500  \n",
       "7258      0.0  22.202620  \n",
       "\n",
       "[7259 rows x 7 columns]"
      ]
     },
     "execution_count": 2,
     "metadata": {},
     "output_type": "execute_result"
    }
   ],
   "source": [
    "cols = ['center' , 'left' , 'right' , 'steering' , 'throttle' , 'reverse' , 'speed']\n",
    "df = pd.read_csv(r\"D:\\archive (40)\\data-master\\driving_log.csv\" , names=cols)\n",
    "df"
   ]
  },
  {
   "cell_type": "code",
   "execution_count": 4,
   "id": "468452f0",
   "metadata": {},
   "outputs": [
    {
     "data": {
      "text/html": [
       "<div>\n",
       "<style scoped>\n",
       "    .dataframe tbody tr th:only-of-type {\n",
       "        vertical-align: middle;\n",
       "    }\n",
       "\n",
       "    .dataframe tbody tr th {\n",
       "        vertical-align: top;\n",
       "    }\n",
       "\n",
       "    .dataframe thead th {\n",
       "        text-align: right;\n",
       "    }\n",
       "</style>\n",
       "<table border=\"1\" class=\"dataframe\">\n",
       "  <thead>\n",
       "    <tr style=\"text-align: right;\">\n",
       "      <th></th>\n",
       "      <th>center</th>\n",
       "      <th>left</th>\n",
       "      <th>right</th>\n",
       "      <th>steering</th>\n",
       "      <th>throttle</th>\n",
       "      <th>reverse</th>\n",
       "      <th>speed</th>\n",
       "    </tr>\n",
       "  </thead>\n",
       "  <tbody>\n",
       "    <tr>\n",
       "      <th>0</th>\n",
       "      <td>center_2018_10_17_16_36_30_865.jpg</td>\n",
       "      <td>left_2018_10_17_16_36_30_865.jpg</td>\n",
       "      <td>right_2018_10_17_16_36_30_865.jpg</td>\n",
       "      <td>0.0</td>\n",
       "      <td>0.0</td>\n",
       "      <td>0.0</td>\n",
       "      <td>0.000078</td>\n",
       "    </tr>\n",
       "    <tr>\n",
       "      <th>1</th>\n",
       "      <td>center_2018_10_17_16_36_30_966.jpg</td>\n",
       "      <td>left_2018_10_17_16_36_30_966.jpg</td>\n",
       "      <td>right_2018_10_17_16_36_30_966.jpg</td>\n",
       "      <td>0.0</td>\n",
       "      <td>0.0</td>\n",
       "      <td>0.0</td>\n",
       "      <td>0.000078</td>\n",
       "    </tr>\n",
       "    <tr>\n",
       "      <th>2</th>\n",
       "      <td>center_2018_10_17_16_36_31_098.jpg</td>\n",
       "      <td>left_2018_10_17_16_36_31_098.jpg</td>\n",
       "      <td>right_2018_10_17_16_36_31_098.jpg</td>\n",
       "      <td>0.0</td>\n",
       "      <td>0.0</td>\n",
       "      <td>0.0</td>\n",
       "      <td>0.000079</td>\n",
       "    </tr>\n",
       "    <tr>\n",
       "      <th>3</th>\n",
       "      <td>center_2018_10_17_16_36_31_253.jpg</td>\n",
       "      <td>left_2018_10_17_16_36_31_253.jpg</td>\n",
       "      <td>right_2018_10_17_16_36_31_253.jpg</td>\n",
       "      <td>0.0</td>\n",
       "      <td>0.0</td>\n",
       "      <td>0.0</td>\n",
       "      <td>0.000078</td>\n",
       "    </tr>\n",
       "    <tr>\n",
       "      <th>4</th>\n",
       "      <td>center_2018_10_17_16_36_31_366.jpg</td>\n",
       "      <td>left_2018_10_17_16_36_31_366.jpg</td>\n",
       "      <td>right_2018_10_17_16_36_31_366.jpg</td>\n",
       "      <td>0.0</td>\n",
       "      <td>0.0</td>\n",
       "      <td>0.0</td>\n",
       "      <td>0.000079</td>\n",
       "    </tr>\n",
       "  </tbody>\n",
       "</table>\n",
       "</div>"
      ],
      "text/plain": [
       "                               center                              left  \\\n",
       "0  center_2018_10_17_16_36_30_865.jpg  left_2018_10_17_16_36_30_865.jpg   \n",
       "1  center_2018_10_17_16_36_30_966.jpg  left_2018_10_17_16_36_30_966.jpg   \n",
       "2  center_2018_10_17_16_36_31_098.jpg  left_2018_10_17_16_36_31_098.jpg   \n",
       "3  center_2018_10_17_16_36_31_253.jpg  left_2018_10_17_16_36_31_253.jpg   \n",
       "4  center_2018_10_17_16_36_31_366.jpg  left_2018_10_17_16_36_31_366.jpg   \n",
       "\n",
       "                               right  steering  throttle  reverse     speed  \n",
       "0  right_2018_10_17_16_36_30_865.jpg       0.0       0.0      0.0  0.000078  \n",
       "1  right_2018_10_17_16_36_30_966.jpg       0.0       0.0      0.0  0.000078  \n",
       "2  right_2018_10_17_16_36_31_098.jpg       0.0       0.0      0.0  0.000079  \n",
       "3  right_2018_10_17_16_36_31_253.jpg       0.0       0.0      0.0  0.000078  \n",
       "4  right_2018_10_17_16_36_31_366.jpg       0.0       0.0      0.0  0.000079  "
      ]
     },
     "execution_count": 4,
     "metadata": {},
     "output_type": "execute_result"
    }
   ],
   "source": [
    "def path_leaf(path):\n",
    "    head, tail = ntpath.split(path)\n",
    "    return tail\n",
    "df['center'] = df['center'].apply(path_leaf)\n",
    "df['left'] = df['left'].apply(path_leaf)\n",
    "df['right'] = df['right'].apply(path_leaf)\n",
    "df.head()"
   ]
  },
  {
   "cell_type": "code",
   "execution_count": 5,
   "id": "6bc930b1",
   "metadata": {},
   "outputs": [
    {
     "data": {
      "text/plain": [
       "<BarContainer object of 25 artists>"
      ]
     },
     "execution_count": 5,
     "metadata": {},
     "output_type": "execute_result"
    },
    {
     "data": {
      "image/png": "[encoded data removed]",
      "text/plain": [
       "<Figure size 640x480 with 1 Axes>"
      ]
     },
     "metadata": {},
     "output_type": "display_data"
    }
   ],
   "source": [
    "num=25\n",
    "hist , bins = np.histogram(df['steering'] , num)\n",
    "center = (bins[:-1]+ bins[1:])*0.5\n",
    "plt.bar(center , hist , width=0.05)"
   ]
  },
  {
   "cell_type": "code",
   "execution_count": 6,
   "id": "dadb9a0a",
   "metadata": {},
   "outputs": [
    {
     "name": "stdout",
     "output_type": "stream",
     "text": [
      "remaining 2205\n"
     ]
    }
   ],
   "source": [
    "sample_per_bin = 400\n",
    "rmv = []\n",
    "for j in range(num):\n",
    "    lst = []\n",
    "    for i in range(len(df['steering'])):\n",
    "        if df['steering'][i]>=bins[j] and df['steering'][i]<=bins[j+1]:\n",
    "            lst.append(i)\n",
    "    lst = shuffle(lst)\n",
    "    lst = lst[sample_per_bin:]\n",
    "    rmv.extend(lst)\n",
    "\n",
    "df.drop(df.index[rmv] , inplace=True)\n",
    "print(\"remaining\" , len(df))"
   ]
  },
  {
   "cell_type": "code",
   "execution_count": 7,
   "id": "77b77ee0",
   "metadata": {},
   "outputs": [
    {
     "data": {
      "text/plain": [
       "<BarContainer object of 25 artists>"
      ]
     },
     "execution_count": 7,
     "metadata": {},
     "output_type": "execute_result"
    },
    {
     "data": {
      "image/png": "[encoded data removed]",
      "text/plain": [
       "<Figure size 640x480 with 1 Axes>"
      ]
     },
     "metadata": {},
     "output_type": "display_data"
    }
   ],
   "source": [
    "hist , bins = np.histogram(df['steering'] , num)\n",
    "center = (bins[:-1]+ bins[1:])*0.5\n",
    "plt.bar(center , hist , width=0.05)"
   ]
  },
  {
   "cell_type": "code",
   "execution_count": 10,
   "id": "950b9cec",
   "metadata": {},
   "outputs": [
    {
     "data": {
      "text/plain": [
       "0.15143897856335242"
      ]
     },
     "execution_count": 10,
     "metadata": {},
     "output_type": "execute_result"
    }
   ],
   "source": [
    "carl_pearson_skew = ((np.mean(df['steering'])-np.median(df['steering']))*3)/np.std(df['steering'])\n",
    "carl_pearson_skew ## lightly negativly skew"
   ]
  },
  {
   "cell_type": "code",
   "execution_count": 8,
   "id": "bcf1edf2",
   "metadata": {},
   "outputs": [
    {
     "data": {
      "text/plain": [
       "16      center_2018_10_17_16_36_32_765.jpg\n",
       "24      center_2018_10_17_16_36_33_682.jpg\n",
       "26      center_2018_10_17_16_36_33_915.jpg\n",
       "28      center_2018_10_17_16_36_34_171.jpg\n",
       "29      center_2018_10_17_16_36_34_282.jpg\n",
       "                       ...                \n",
       "7183    center_2018_10_17_21_29_04_518.jpg\n",
       "7184    center_2018_10_17_21_29_04_632.jpg\n",
       "7249    center_2018_10_17_21_29_12_189.jpg\n",
       "7254    center_2018_10_17_21_29_12_803.jpg\n",
       "7257    center_2018_10_17_21_29_13_191.jpg\n",
       "Name: center, Length: 2205, dtype: object"
      ]
     },
     "execution_count": 8,
     "metadata": {},
     "output_type": "execute_result"
    }
   ],
   "source": [
    "df['center']"
   ]
  },
  {
   "cell_type": "code",
   "execution_count": 9,
   "id": "f61f3954",
   "metadata": {},
   "outputs": [],
   "source": [
    "img_arr = np.asarray(df[['center' , 'left' , 'right']])\n",
    "steering_arr = np.asarray(df['steering'])"
   ]
  },
  {
   "cell_type": "code",
   "execution_count": 10,
   "id": "8d560ff5",
   "metadata": {},
   "outputs": [
    {
     "data": {
      "text/plain": [
       "array([['center_2018_10_17_16_36_32_765.jpg',\n",
       "        'left_2018_10_17_16_36_32_765.jpg',\n",
       "        'right_2018_10_17_16_36_32_765.jpg'],\n",
       "       ['center_2018_10_17_16_36_33_682.jpg',\n",
       "        'left_2018_10_17_16_36_33_682.jpg',\n",
       "        'right_2018_10_17_16_36_33_682.jpg'],\n",
       "       ['center_2018_10_17_16_36_33_915.jpg',\n",
       "        'left_2018_10_17_16_36_33_915.jpg',\n",
       "        'right_2018_10_17_16_36_33_915.jpg'],\n",
       "       ...,\n",
       "       ['center_2018_10_17_21_29_12_189.jpg',\n",
       "        'left_2018_10_17_21_29_12_189.jpg',\n",
       "        'right_2018_10_17_21_29_12_189.jpg'],\n",
       "       ['center_2018_10_17_21_29_12_803.jpg',\n",
       "        'left_2018_10_17_21_29_12_803.jpg',\n",
       "        'right_2018_10_17_21_29_12_803.jpg'],\n",
       "       ['center_2018_10_17_21_29_13_191.jpg',\n",
       "        'left_2018_10_17_21_29_13_191.jpg',\n",
       "        'right_2018_10_17_21_29_13_191.jpg']], dtype=object)"
      ]
     },
     "execution_count": 10,
     "metadata": {},
     "output_type": "execute_result"
    }
   ],
   "source": [
    "img_arr"
   ]
  },
  {
   "cell_type": "code",
   "execution_count": 11,
   "id": "3d53e80f",
   "metadata": {},
   "outputs": [],
   "source": [
    "\n",
    "def load_img_steering(datadir, df):\n",
    "    image_path = []\n",
    "    steering = []\n",
    "    for i in range(len(df)):\n",
    "        indexed_data = df.iloc[i]\n",
    "        center, left, right = indexed_data['center'], indexed_data['left'], indexed_data['right']\n",
    "        image_path.append(os.path.join(datadir, center.strip()))\n",
    "        steering.append(float(indexed_data['steering']))\n",
    "    # left image append\n",
    "        image_path.append(os.path.join(datadir,left.strip()))\n",
    "        steering.append(float(indexed_data['steering'])+0.15)\n",
    "    # right image append\n",
    "        image_path.append(os.path.join(datadir,right.strip()))\n",
    "        steering.append(float(indexed_data['steering'])-0.15)\n",
    "        image_paths = np.asarray(image_path)\n",
    "        steerings = np.asarray(steering)\n",
    "    return image_paths, steerings\n",
    "     "
   ]
  },
  {
   "cell_type": "code",
   "execution_count": 25,
   "id": "e0fac4cc",
   "metadata": {},
   "outputs": [],
   "source": [
    "image_arr, steerings_arr = load_img_steering(r\"D:\\archive (40)\\data-master\\IMG\", df)\n",
    "X_train, X_valid, y_train, y_valid = train_test_split(image_arr, steerings_arr, test_size=0.2, random_state=6)"
   ]
  },
  {
   "cell_type": "code",
   "execution_count": 26,
   "id": "bae072b9",
   "metadata": {},
   "outputs": [
    {
     "data": {
      "text/plain": [
       "array(['D:\\\\archive (40)\\\\data-master\\\\IMG\\\\right_2018_10_17_16_37_10_782.jpg',\n",
       "       'D:\\\\archive (40)\\\\data-master\\\\IMG\\\\center_2018_10_17_21_25_08_008.jpg',\n",
       "       'D:\\\\archive (40)\\\\data-master\\\\IMG\\\\left_2018_10_17_21_24_44_665.jpg',\n",
       "       ...,\n",
       "       'D:\\\\archive (40)\\\\data-master\\\\IMG\\\\center_2018_10_17_16_40_37_251.jpg',\n",
       "       'D:\\\\archive (40)\\\\data-master\\\\IMG\\\\right_2018_10_17_16_36_50_988.jpg',\n",
       "       'D:\\\\archive (40)\\\\data-master\\\\IMG\\\\left_2018_10_17_16_42_35_781.jpg'],\n",
       "      dtype='<U66')"
      ]
     },
     "execution_count": 26,
     "metadata": {},
     "output_type": "execute_result"
    }
   ],
   "source": [
    "X_train"
   ]
  },
  {
   "cell_type": "code",
   "execution_count": 22,
   "id": "8565c734",
   "metadata": {},
   "outputs": [
    {
     "data": {
      "text/plain": [
       "array(['D:/home/aman-py/Desktop/Self-Driving-Car/data/IMG/center_2018_10_17_16_36_30_865.jpg',\n",
       "       'D:/home/aman-py/Desktop/Self-Driving-Car/data/IMG/left_2018_10_17_16_36_30_865.jpg',\n",
       "       'D:/home/aman-py/Desktop/Self-Driving-Car/data/IMG/right_2018_10_17_16_36_30_865.jpg',\n",
       "       ...,\n",
       "       'D:/home/aman-py/Desktop/Self-Driving-Car/data/IMG/center_2018_10_17_21_29_13_191.jpg',\n",
       "       'D:/home/aman-py/Desktop/Self-Driving-Car/data/IMG/left_2018_10_17_21_29_13_191.jpg',\n",
       "       'D:/home/aman-py/Desktop/Self-Driving-Car/data/IMG/right_2018_10_17_21_29_13_191.jpg'],\n",
       "      dtype='<U84')"
      ]
     },
     "execution_count": 22,
     "metadata": {},
     "output_type": "execute_result"
    }
   ],
   "source": [
    "image_arr"
   ]
  },
  {
   "cell_type": "code",
   "execution_count": 16,
   "id": "1933320c",
   "metadata": {},
   "outputs": [
    {
     "data": {
      "text/plain": [
       "0.0"
      ]
     },
     "execution_count": 16,
     "metadata": {},
     "output_type": "execute_result"
    }
   ],
   "source": [
    "indexed_data = df.iloc[0]\n",
    "indexed_data['steering']"
   ]
  },
  {
   "cell_type": "code",
   "execution_count": 19,
   "id": "aeec6919",
   "metadata": {},
   "outputs": [
    {
     "data": {
      "text/plain": [
       "array(['D:/home/aman-py/Desktop/Self-Driving-Car/data/IMG/right_2018_10_17_16_37_13_727.jpg',\n",
       "       'D:/home/aman-py/Desktop/Self-Driving-Car/data/IMG/center_2018_10_17_21_25_09_623.jpg',\n",
       "       'D:/home/aman-py/Desktop/Self-Driving-Car/data/IMG/left_2018_10_17_21_24_49_129.jpg',\n",
       "       ...,\n",
       "       'D:/home/aman-py/Desktop/Self-Driving-Car/data/IMG/center_2018_10_17_16_40_38_326.jpg',\n",
       "       'D:/home/aman-py/Desktop/Self-Driving-Car/data/IMG/right_2018_10_17_16_36_51_936.jpg',\n",
       "       'D:/home/aman-py/Desktop/Self-Driving-Car/data/IMG/left_2018_10_17_16_42_34_663.jpg'],\n",
       "      dtype='<U84')"
      ]
     },
     "execution_count": 19,
     "metadata": {},
     "output_type": "execute_result"
    }
   ],
   "source": [
    "X_train"
   ]
  },
  {
   "cell_type": "code",
   "execution_count": 15,
   "id": "44f5e545",
   "metadata": {},
   "outputs": [],
   "source": [
    "from imgaug import augmenters as iaa"
   ]
  },
  {
   "cell_type": "code",
   "execution_count": 27,
   "id": "f8e1a237",
   "metadata": {},
   "outputs": [],
   "source": [
    "def zoom(img):\n",
    "    zoom = iaa.Affine(scale=(1 , 1.3))\n",
    "    image = zoom.augment_image(img)\n",
    "    return image\n",
    "\n",
    "\n",
    "def pan(img):\n",
    "    pan= iaa.Affine(translate_percent={'x' : (-0.1 , 0.1) , 'y':(-0.1 , 0.1)})\n",
    "    image = pan.augment_image(img)\n",
    "    return image\n",
    "\n",
    "def bright(img):\n",
    "    bri = iaa.Multiply((0.2 , 1.2))\n",
    "    image = bri.augment_image(img)\n",
    "    return image\n",
    "def flip(img , angle):\n",
    "    fl = cv.flip(img , 1)\n",
    "    angle  = -angle\n",
    "    return fl , angle"
   ]
  },
  {
   "cell_type": "code",
   "execution_count": 28,
   "id": "efee4265",
   "metadata": {},
   "outputs": [],
   "source": [
    "def augment(img , angle):\n",
    "    image =mpimg.imread(img)\n",
    "    if np.random.rand()<0.5:\n",
    "        image = zoom(image)\n",
    "    elif np.random.rand()<0.5:\n",
    "        image = bright(image)\n",
    "    elif np.random.rand()<0.5:\n",
    "        image = pan(image)\n",
    "    elif np.random.rand()<0.5:\n",
    "        image , angle = flip(image , angle)\n",
    "    return image , angle"
   ]
  },
  {
   "cell_type": "code",
   "execution_count": 29,
   "id": "5146127a",
   "metadata": {},
   "outputs": [],
   "source": [
    "def img_preprocess(img):\n",
    "    img = img[60 : 135 , : , :]\n",
    "    img = cv.cvtColor(img , cv.COLOR_RGB2YUV)\n",
    "    img = cv.GaussianBlur(img , (3 , 3) , 0)\n",
    "    img = cv.resize(img , (200 , 66))\n",
    "    img = img/255\n",
    "    return img"
   ]
  },
  {
   "cell_type": "code",
   "execution_count": 30,
   "id": "f5f54061",
   "metadata": {},
   "outputs": [],
   "source": [
    "def batch_g(image_arr, steerings_arr, batch_size, istraining):\n",
    "    while True:\n",
    "        batch_img = []\n",
    "        batch_steering = []\n",
    "\n",
    "        for i in range(batch_size):\n",
    "            random_index = np.random.randint(0, len(image_arr) - 1)\n",
    "\n",
    "            if istraining:\n",
    "                im, steering = augment(image_arr[random_index], steerings_arr[random_index])\n",
    "\n",
    "            else:\n",
    "                im = plt.imread(image_arr[random_index])\n",
    "                steering = steerings_arr[random_index]\n",
    "\n",
    "            im = img_preprocess(im)\n",
    "            batch_img.append(im)\n",
    "            batch_steering.append(steering)\n",
    "        yield (np.asarray(batch_img), np.asarray(batch_steering))\n",
    "    \n",
    "    \n"
   ]
  },
  {
   "cell_type": "code",
   "execution_count": 31,
   "id": "b0f84760",
   "metadata": {},
   "outputs": [],
   "source": [
    "xtrain_gen, ytrain_gen = next(batch_g(X_train, y_train, 15, 1))\n",
    "xvalid_gen, yvalid_gen = next(batch_g(X_valid, y_valid, 1, 0))\n",
    "     "
   ]
  },
  {
   "cell_type": "code",
   "execution_count": 32,
   "id": "135751a3",
   "metadata": {},
   "outputs": [
    {
     "data": {
      "text/plain": [
       "Text(0.5, 1.0, 'Validation Image')"
      ]
     },
     "execution_count": 32,
     "metadata": {},
     "output_type": "execute_result"
    },
    {
     "data": {
      "image/png": "[encoded data removed]",
      "text/plain": [
       "<Figure size 1500x1000 with 2 Axes>"
      ]
     },
     "metadata": {},
     "output_type": "display_data"
    }
   ],
   "source": [
    "xtrain_gen, ytrain_gen = next(batch_g(X_train, y_train, 15, 1))\n",
    "xvalid_gen, yvalid_gen = next(batch_g(X_valid, y_valid, 1, 0))\n",
    "     \n",
    "fig, axs = plt.subplots(1, 2, figsize=(15, 10))\n",
    "fig.tight_layout()\n",
    "\n",
    "axs[0].imshow(xtrain_gen[14])\n",
    "axs[0].set_title('Training Image')\n",
    "\n",
    "axs[1].imshow(xvalid_gen[0])\n",
    "axs[1].set_title('Validation Image')"
   ]
  },
  {
   "cell_type": "code",
   "execution_count": 33,
   "id": "c9ca2e92",
   "metadata": {},
   "outputs": [
    {
     "data": {
      "text/plain": [
       "6615"
      ]
     },
     "execution_count": 33,
     "metadata": {},
     "output_type": "execute_result"
    }
   ],
   "source": [
    "len(image_arr)"
   ]
  },
  {
   "cell_type": "code",
   "execution_count": 34,
   "id": "36aad763",
   "metadata": {},
   "outputs": [
    {
     "data": {
      "text/plain": [
       "2205"
      ]
     },
     "execution_count": 34,
     "metadata": {},
     "output_type": "execute_result"
    }
   ],
   "source": [
    "len(steering_arr)"
   ]
  },
  {
   "cell_type": "code",
   "execution_count": 35,
   "id": "3fbbeaba",
   "metadata": {},
   "outputs": [],
   "source": [
    "def model():\n",
    "    model = Sequential()\n",
    "    model.add(Conv2D(24 , (5 , 5) , strides=(2 , 2) , input_shape=(66 , 200 , 3) , activation='elu'))\n",
    "    model.add(Conv2D(36 , (5 , 5) , strides=(2 , 2) , activation='elu') )\n",
    "    model.add(Conv2D(48 , (5 , 5) , strides=(2 , 2)  , activation='elu') )\n",
    "    model.add(Conv2D(64 , (5 , 5) , strides=(2 , 2) )) \n",
    "    model.add(Dropout(0.5))\n",
    "    model.add(Flatten()) ,\n",
    "    model.add(Dense(100 , activation='elu') )\n",
    "    model.add(Dense(50 , activation='elu'))\n",
    "    model.add(Dense(10 , activation='elu'))\n",
    "    model.add(Dense(1))\n",
    "          \n",
    "    model.compile(optimizer='adam', loss='mean_squared_error', metrics=['mean_squared_error'])\n",
    "    return model"
   ]
  },
  {
   "cell_type": "code",
   "execution_count": 40,
   "id": "ea4ed18c",
   "metadata": {},
   "outputs": [],
   "source": [
    "m = model()"
   ]
  },
  {
   "cell_type": "code",
   "execution_count": 43,
   "id": "30e7c7ce",
   "metadata": {},
   "outputs": [
    {
     "name": "stdout",
     "output_type": "stream",
     "text": [
      "Epoch 1/2\n",
      "\u001b[1m300/300\u001b[0m \u001b[32m━━━━━━━━━━━━━━━━━━━━\u001b[0m\u001b[37m\u001b[0m \u001b[1m336s\u001b[0m 1s/step - loss: 0.0543 - mean_squared_error: 0.0543 - val_loss: 0.0412 - val_mean_squared_error: 0.0412\n",
      "Epoch 2/2\n",
      "\u001b[1m300/300\u001b[0m \u001b[32m━━━━━━━━━━━━━━━━━━━━\u001b[0m\u001b[37m\u001b[0m \u001b[1m329s\u001b[0m 1s/step - loss: 0.0515 - mean_squared_error: 0.0515 - val_loss: 0.0400 - val_mean_squared_error: 0.0400\n"
     ]
    }
   ],
   "source": [
    "history = m.fit(\n",
    "    batch_g(X_train, y_train, 400, 1), \n",
    "    steps_per_epoch=300 ,\n",
    "    epochs=7, \n",
    "    validation_data = batch_g(X_valid, y_valid, 150, 0) ,\n",
    "    validation_steps=200 ,\n",
    "    shuffle =1 )\n"
   ]
  },
  {
   "cell_type": "code",
   "execution_count": 44,
   "id": "b8e8d544",
   "metadata": {},
   "outputs": [
    {
     "data": {
      "text/plain": [
       "Text(0.5, 0, 'epoch')"
      ]
     },
     "execution_count": 44,
     "metadata": {},
     "output_type": "execute_result"
    },
    {
     "data": {
      "image/png": "[encoded data removed]",
      "text/plain": [
       "<Figure size 640x480 with 1 Axes>"
      ]
     },
     "metadata": {},
     "output_type": "display_data"
    }
   ],
   "source": [
    "plt.plot(history.history['mean_squared_error'])\n",
    "plt.plot(history.history['val_mean_squared_error'])\n",
    "plt.legend(['train' , 'valid'])\n",
    "plt.xlabel('epoch')"
   ]
  },
  {
   "cell_type": "code",
   "execution_count": 45,
   "id": "1c309ac2",
   "metadata": {},
   "outputs": [
    {
     "name": "stderr",
     "output_type": "stream",
     "text": [
      "WARNING:absl:The `save_format` argument is deprecated in Keras 3. We recommend removing this argument as it can be inferred from the file path. Received: save_format=h5\n",
      "WARNING:absl:You are saving your model as an HDF5 file via `model.save()` or `keras.saving.save_model(model)`. This file format is considered legacy. We recommend using instead the native Keras format, e.g. `model.save('my_model.keras')` or `keras.saving.save_model(model, 'my_model.keras')`. \n"
     ]
    }
   ],
   "source": [
    "m.save('car-model_2.h5' , save_format='h5')"
   ]
  },
  {
   "cell_type": "code",
   "execution_count": 81,
   "id": "7ca11e13",
   "metadata": {},
   "outputs": [
    {
     "name": "stderr",
     "output_type": "stream",
     "text": [
      "WARNING:absl:Compiled the loaded model, but the compiled metrics have yet to be built. `model.compile_metrics` will be empty until you train or evaluate the model.\n"
     ]
    },
    {
     "data": {
      "text/plain": [
       "<Sequential name=sequential_11, built=True>"
      ]
     },
     "execution_count": 81,
     "metadata": {},
     "output_type": "execute_result"
    }
   ],
   "source": [
    "tf.keras.models.load_model('car-model.h5')"
   ]
  },
  {
   "cell_type": "code",
   "execution_count": 74,
   "id": "7e0aee89",
   "metadata": {},
   "outputs": [
    {
     "data": {
      "text/plain": [
       "{'name': 'sequential_10',\n",
       " 'trainable': True,\n",
       " 'dtype': 'float32',\n",
       " 'layers': [{'module': 'keras.layers',\n",
       "   'class_name': 'InputLayer',\n",
       "   'config': {'batch_shape': (None, 66, 200, 3),\n",
       "    'dtype': 'float32',\n",
       "    'sparse': False,\n",
       "    'name': 'input_layer_10'},\n",
       "   'registered_name': None},\n",
       "  {'module': 'keras.layers',\n",
       "   'class_name': 'Conv2D',\n",
       "   'config': {'name': 'conv2d_40',\n",
       "    'trainable': True,\n",
       "    'dtype': 'float32',\n",
       "    'filters': 24,\n",
       "    'kernel_size': (5, 5),\n",
       "    'strides': (2, 2),\n",
       "    'padding': 'valid',\n",
       "    'data_format': 'channels_last',\n",
       "    'dilation_rate': (1, 1),\n",
       "    'groups': 1,\n",
       "    'activation': 'elu',\n",
       "    'use_bias': True,\n",
       "    'kernel_initializer': {'module': 'keras.initializers',\n",
       "     'class_name': 'GlorotUniform',\n",
       "     'config': {'seed': None},\n",
       "     'registered_name': None},\n",
       "    'bias_initializer': {'module': 'keras.initializers',\n",
       "     'class_name': 'Zeros',\n",
       "     'config': {},\n",
       "     'registered_name': None},\n",
       "    'kernel_regularizer': None,\n",
       "    'bias_regularizer': None,\n",
       "    'activity_regularizer': None,\n",
       "    'kernel_constraint': None,\n",
       "    'bias_constraint': None},\n",
       "   'registered_name': None,\n",
       "   'build_config': {'input_shape': (None, 66, 200, 3)}},\n",
       "  {'module': 'keras.layers',\n",
       "   'class_name': 'Conv2D',\n",
       "   'config': {'name': 'conv2d_41',\n",
       "    'trainable': True,\n",
       "    'dtype': 'float32',\n",
       "    'filters': 36,\n",
       "    'kernel_size': (5, 5),\n",
       "    'strides': (2, 2),\n",
       "    'padding': 'valid',\n",
       "    'data_format': 'channels_last',\n",
       "    'dilation_rate': (1, 1),\n",
       "    'groups': 1,\n",
       "    'activation': 'elu',\n",
       "    'use_bias': True,\n",
       "    'kernel_initializer': {'module': 'keras.initializers',\n",
       "     'class_name': 'GlorotUniform',\n",
       "     'config': {'seed': None},\n",
       "     'registered_name': None},\n",
       "    'bias_initializer': {'module': 'keras.initializers',\n",
       "     'class_name': 'Zeros',\n",
       "     'config': {},\n",
       "     'registered_name': None},\n",
       "    'kernel_regularizer': None,\n",
       "    'bias_regularizer': None,\n",
       "    'activity_regularizer': None,\n",
       "    'kernel_constraint': None,\n",
       "    'bias_constraint': None},\n",
       "   'registered_name': None,\n",
       "   'build_config': {'input_shape': (None, 31, 98, 24)}},\n",
       "  {'module': 'keras.layers',\n",
       "   'class_name': 'Conv2D',\n",
       "   'config': {'name': 'conv2d_42',\n",
       "    'trainable': True,\n",
       "    'dtype': 'float32',\n",
       "    'filters': 48,\n",
       "    'kernel_size': (5, 5),\n",
       "    'strides': (2, 2),\n",
       "    'padding': 'valid',\n",
       "    'data_format': 'channels_last',\n",
       "    'dilation_rate': (1, 1),\n",
       "    'groups': 1,\n",
       "    'activation': 'elu',\n",
       "    'use_bias': True,\n",
       "    'kernel_initializer': {'module': 'keras.initializers',\n",
       "     'class_name': 'GlorotUniform',\n",
       "     'config': {'seed': None},\n",
       "     'registered_name': None},\n",
       "    'bias_initializer': {'module': 'keras.initializers',\n",
       "     'class_name': 'Zeros',\n",
       "     'config': {},\n",
       "     'registered_name': None},\n",
       "    'kernel_regularizer': None,\n",
       "    'bias_regularizer': None,\n",
       "    'activity_regularizer': None,\n",
       "    'kernel_constraint': None,\n",
       "    'bias_constraint': None},\n",
       "   'registered_name': None,\n",
       "   'build_config': {'input_shape': (None, 14, 47, 36)}},\n",
       "  {'module': 'keras.layers',\n",
       "   'class_name': 'Conv2D',\n",
       "   'config': {'name': 'conv2d_43',\n",
       "    'trainable': True,\n",
       "    'dtype': 'float32',\n",
       "    'filters': 64,\n",
       "    'kernel_size': (5, 5),\n",
       "    'strides': (2, 2),\n",
       "    'padding': 'valid',\n",
       "    'data_format': 'channels_last',\n",
       "    'dilation_rate': (1, 1),\n",
       "    'groups': 1,\n",
       "    'activation': 'linear',\n",
       "    'use_bias': True,\n",
       "    'kernel_initializer': {'module': 'keras.initializers',\n",
       "     'class_name': 'GlorotUniform',\n",
       "     'config': {'seed': None},\n",
       "     'registered_name': None},\n",
       "    'bias_initializer': {'module': 'keras.initializers',\n",
       "     'class_name': 'Zeros',\n",
       "     'config': {},\n",
       "     'registered_name': None},\n",
       "    'kernel_regularizer': None,\n",
       "    'bias_regularizer': None,\n",
       "    'activity_regularizer': None,\n",
       "    'kernel_constraint': None,\n",
       "    'bias_constraint': None},\n",
       "   'registered_name': None,\n",
       "   'build_config': {'input_shape': (None, 5, 22, 48)}},\n",
       "  {'module': 'keras.layers',\n",
       "   'class_name': 'Dropout',\n",
       "   'config': {'name': 'dropout_7',\n",
       "    'trainable': True,\n",
       "    'dtype': 'float32',\n",
       "    'rate': 0.5,\n",
       "    'seed': None,\n",
       "    'noise_shape': None},\n",
       "   'registered_name': None},\n",
       "  {'module': 'keras.layers',\n",
       "   'class_name': 'Flatten',\n",
       "   'config': {'name': 'flatten_9',\n",
       "    'trainable': True,\n",
       "    'dtype': 'float32',\n",
       "    'data_format': 'channels_last'},\n",
       "   'registered_name': None,\n",
       "   'build_config': {'input_shape': (None, 1, 9, 64)}},\n",
       "  {'module': 'keras.layers',\n",
       "   'class_name': 'Dense',\n",
       "   'config': {'name': 'dense_33',\n",
       "    'trainable': True,\n",
       "    'dtype': 'float32',\n",
       "    'units': 100,\n",
       "    'activation': 'elu',\n",
       "    'use_bias': True,\n",
       "    'kernel_initializer': {'module': 'keras.initializers',\n",
       "     'class_name': 'GlorotUniform',\n",
       "     'config': {'seed': None},\n",
       "     'registered_name': None},\n",
       "    'bias_initializer': {'module': 'keras.initializers',\n",
       "     'class_name': 'Zeros',\n",
       "     'config': {},\n",
       "     'registered_name': None},\n",
       "    'kernel_regularizer': None,\n",
       "    'bias_regularizer': None,\n",
       "    'kernel_constraint': None,\n",
       "    'bias_constraint': None},\n",
       "   'registered_name': None,\n",
       "   'build_config': {'input_shape': (None, 576)}},\n",
       "  {'module': 'keras.layers',\n",
       "   'class_name': 'Dense',\n",
       "   'config': {'name': 'dense_34',\n",
       "    'trainable': True,\n",
       "    'dtype': 'float32',\n",
       "    'units': 50,\n",
       "    'activation': 'elu',\n",
       "    'use_bias': True,\n",
       "    'kernel_initializer': {'module': 'keras.initializers',\n",
       "     'class_name': 'GlorotUniform',\n",
       "     'config': {'seed': None},\n",
       "     'registered_name': None},\n",
       "    'bias_initializer': {'module': 'keras.initializers',\n",
       "     'class_name': 'Zeros',\n",
       "     'config': {},\n",
       "     'registered_name': None},\n",
       "    'kernel_regularizer': None,\n",
       "    'bias_regularizer': None,\n",
       "    'kernel_constraint': None,\n",
       "    'bias_constraint': None},\n",
       "   'registered_name': None,\n",
       "   'build_config': {'input_shape': (None, 100)}},\n",
       "  {'module': 'keras.layers',\n",
       "   'class_name': 'Dense',\n",
       "   'config': {'name': 'dense_35',\n",
       "    'trainable': True,\n",
       "    'dtype': 'float32',\n",
       "    'units': 10,\n",
       "    'activation': 'elu',\n",
       "    'use_bias': True,\n",
       "    'kernel_initializer': {'module': 'keras.initializers',\n",
       "     'class_name': 'GlorotUniform',\n",
       "     'config': {'seed': None},\n",
       "     'registered_name': None},\n",
       "    'bias_initializer': {'module': 'keras.initializers',\n",
       "     'class_name': 'Zeros',\n",
       "     'config': {},\n",
       "     'registered_name': None},\n",
       "    'kernel_regularizer': None,\n",
       "    'bias_regularizer': None,\n",
       "    'kernel_constraint': None,\n",
       "    'bias_constraint': None},\n",
       "   'registered_name': None,\n",
       "   'build_config': {'input_shape': (None, 50)}},\n",
       "  {'module': 'keras.layers',\n",
       "   'class_name': 'Dense',\n",
       "   'config': {'name': 'dense_36',\n",
       "    'trainable': True,\n",
       "    'dtype': 'float32',\n",
       "    'units': 1,\n",
       "    'activation': 'linear',\n",
       "    'use_bias': True,\n",
       "    'kernel_initializer': {'module': 'keras.initializers',\n",
       "     'class_name': 'GlorotUniform',\n",
       "     'config': {'seed': None},\n",
       "     'registered_name': None},\n",
       "    'bias_initializer': {'module': 'keras.initializers',\n",
       "     'class_name': 'Zeros',\n",
       "     'config': {},\n",
       "     'registered_name': None},\n",
       "    'kernel_regularizer': None,\n",
       "    'bias_regularizer': None,\n",
       "    'kernel_constraint': None,\n",
       "    'bias_constraint': None},\n",
       "   'registered_name': None,\n",
       "   'build_config': {'input_shape': (None, 10)}}],\n",
       " 'build_input_shape': (None, 66, 200, 3)}"
      ]
     },
     "execution_count": 74,
     "metadata": {},
     "output_type": "execute_result"
    }
   ],
   "source": [
    "m.get_config()"
   ]
  },
  {
   "cell_type": "code",
   "execution_count": 84,
   "id": "41366b5c",
   "metadata": {},
   "outputs": [
    {
     "name": "stdout",
     "output_type": "stream",
     "text": [
      "\u001b[1m2/2\u001b[0m \u001b[32m━━━━━━━━━━━━━━━━━━━━\u001b[0m\u001b[37m\u001b[0m \u001b[1m1s\u001b[0m 510ms/step\n"
     ]
    },
    {
     "data": {
      "text/plain": [
       "array([[-0.2085982 ],\n",
       "       [-0.02217425],\n",
       "       [ 0.23207173],\n",
       "       [-0.00841981],\n",
       "       [ 0.16497476],\n",
       "       [-0.23277918],\n",
       "       [-0.20622922],\n",
       "       [ 0.19491377],\n",
       "       [-0.09317917],\n",
       "       [-0.00310406],\n",
       "       [-0.3273287 ],\n",
       "       [ 0.2461954 ],\n",
       "       [ 0.21931908],\n",
       "       [-0.2798753 ],\n",
       "       [ 0.20039609],\n",
       "       [-0.23959762],\n",
       "       [ 0.23469034],\n",
       "       [-0.36734298],\n",
       "       [-0.15968494],\n",
       "       [ 0.34648356],\n",
       "       [-0.09766215],\n",
       "       [-0.18424484],\n",
       "       [ 0.4359196 ],\n",
       "       [-0.03844473],\n",
       "       [-0.19966662],\n",
       "       [-0.3353274 ],\n",
       "       [-0.09500306],\n",
       "       [-0.32297653],\n",
       "       [ 0.0352363 ],\n",
       "       [-0.36658522],\n",
       "       [ 0.27933487],\n",
       "       [ 0.08125472],\n",
       "       [-0.23840155],\n",
       "       [ 0.17144033],\n",
       "       [-0.0356186 ],\n",
       "       [ 0.29704657],\n",
       "       [-0.20037508],\n",
       "       [-0.4095812 ],\n",
       "       [-0.28426054],\n",
       "       [ 0.14481577],\n",
       "       [-0.28025046],\n",
       "       [ 0.06731343],\n",
       "       [-0.29486126],\n",
       "       [-0.53472316],\n",
       "       [-0.09221274],\n",
       "       [-0.25147945],\n",
       "       [-0.18521272],\n",
       "       [ 0.13759139],\n",
       "       [ 0.49745575],\n",
       "       [-0.25605574],\n",
       "       [-0.08985454],\n",
       "       [-0.13322178],\n",
       "       [-0.20612979],\n",
       "       [ 0.29991257],\n",
       "       [-0.21683857],\n",
       "       [-0.08663858],\n",
       "       [ 0.31164286],\n",
       "       [-0.04424768],\n",
       "       [-0.2795643 ],\n",
       "       [ 0.13145503]], dtype=float32)"
      ]
     },
     "execution_count": 84,
     "metadata": {},
     "output_type": "execute_result"
    }
   ],
   "source": [
    "m.predict(xvalid_gen)"
   ]
  },
  {
   "cell_type": "code",
   "execution_count": 85,
   "id": "4e4a6c79",
   "metadata": {},
   "outputs": [
    {
     "data": {
      "text/plain": [
       "array([ 0.3210997 ,  0.15      ,  0.249228  , -0.09234901,  0.15      ,\n",
       "        0.1034544 , -0.3573597 ,  0.0409824 ,  0.15      , -0.1755693 ,\n",
       "       -0.2400528 ,  0.        ,  0.15      , -0.2827353 ,  0.1809627 ,\n",
       "       -0.1490445 ,  0.15      , -0.4058517 , -0.1739646 ,  0.2726655 ,\n",
       "       -0.354588  , -0.1091481 , -0.07088614, -0.0458187 , -0.3688194 ,\n",
       "       -0.2304975 , -0.3777306 , -0.365466  , -0.094606  , -0.3129894 ,\n",
       "       -0.0477675 ,  0.        , -0.5631708 ,  0.1518687 , -0.15      ,\n",
       "        0.22832014, -0.15      , -0.2993634 , -0.5850843 ,  0.4783107 ,\n",
       "        0.0502728 ,  0.15      , -0.504312  , -0.3677094 ,  0.        ,\n",
       "        0.0643074 , -0.2880102 ,  0.        ,  0.3409824 , -0.2914152 ,\n",
       "       -0.08877359, -0.0863019 , -0.143541  ,  0.5284608 , -0.2167659 ,\n",
       "       -0.22177411,  0.1287843 ,  0.0670584 , -0.0279915 ,  0.15      ])"
      ]
     },
     "execution_count": 85,
     "metadata": {},
     "output_type": "execute_result"
    }
   ],
   "source": [
    "yvalid_gen"
   ]
  },
  {
   "cell_type": "code",
   "execution_count": 88,
   "id": "416e464a",
   "metadata": {},
   "outputs": [
    {
     "data": {
      "text/plain": [
       "<BarContainer object of 25 artists>"
      ]
     },
     "execution_count": 88,
     "metadata": {},
     "output_type": "execute_result"
    },
    {
     "data": {
      "image/png": "[encoded data removed]",
      "text/plain": [
       "<Figure size 640x480 with 1 Axes>"
      ]
     },
     "metadata": {},
     "output_type": "display_data"
    }
   ],
   "source": [
    "hist , bins = np.histogram(y_valid , num)\n",
    "center = (bins[:-1]+ bins[1:])*0.5\n",
    "plt.bar(center , hist , width=0.05)"
   ]
  },
  {
   "cell_type": "code",
   "execution_count": null,
   "id": "75818721",
   "metadata": {},
   "outputs": [],
   "source": []
  }
 ],
 "metadata": {
  "kernelspec": {
   "display_name": "Python 3 (ipykernel)",
   "language": "python",
   "name": "python3"
  },
  "language_info": {
   "codemirror_mode": {
    "name": "ipython",
    "version": 3
   },
   "file_extension": ".py",
   "mimetype": "text/x-python",
   "name": "python",
   "nbconvert_exporter": "python",
   "pygments_lexer": "ipython3",
   "version": "3.11.7"
  }
 },
 "nbformat": 4,
 "nbformat_minor": 5
}
